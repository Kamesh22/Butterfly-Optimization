{
  "nbformat": 4,
  "nbformat_minor": 0,
  "metadata": {
    "colab": {
      "provenance": []
    },
    "kernelspec": {
      "name": "python3",
      "display_name": "Python 3"
    },
    "language_info": {
      "name": "python"
    },
    "accelerator": "GPU",
    "gpuClass": "standard"
  },
  "cells": [
    {
      "cell_type": "code",
      "execution_count": 1,
      "metadata": {
        "id": "4eWvnqOd_OsD"
      },
      "outputs": [],
      "source": [
        "import pandas as pd\n",
        "import numpy as np\n",
        "from sklearn.model_selection import train_test_split\n",
        "from sklearn.ensemble import RandomForestRegressor\n",
        "from sklearn.metrics import r2_score\n",
        "import random"
      ]
    },
    {
      "cell_type": "code",
      "source": [
        "# Load dataset\n",
        "data = pd.read_csv('https://github.com/Kamesh22/Butterfly-Optimization/blob/main/Test_data.csv?raw=true')\n"
      ],
      "metadata": {
        "id": "EEjMdGfP_yOe"
      },
      "execution_count": 2,
      "outputs": []
    },
    {
      "cell_type": "code",
      "source": [
        "# Convert categorical features to numerical\n",
        "data['protocol_type'] = pd.factorize(data['protocol_type'])[0]\n",
        "data['service'] = pd.factorize(data['service'])[0]\n",
        "data['flag'] = pd.factorize(data['flag'])[0]\n"
      ],
      "metadata": {
        "id": "LDTtNm5D_0l_"
      },
      "execution_count": 3,
      "outputs": []
    },
    {
      "cell_type": "code",
      "source": [
        "# Split into features and target\n",
        "X = data.iloc[:,:-1]\n",
        "y = data.iloc[:,-1]"
      ],
      "metadata": {
        "id": "880aS1vA_-w3"
      },
      "execution_count": 4,
      "outputs": []
    },
    {
      "cell_type": "code",
      "source": [
        "# Split into train and test sets\n",
        "X_train, X_test, y_train, y_test = train_test_split(X, y, test_size=0.2)"
      ],
      "metadata": {
        "id": "vNUeRgdRAA5Q"
      },
      "execution_count": 5,
      "outputs": []
    },
    {
      "cell_type": "code",
      "source": [
        "# Define the fitness function\n",
        "def fitness(params):\n",
        "    global X_train, y_train\n",
        "    \n",
        "    # Use the input parameters to train the model\n",
        "    n_estimators = int(round(params[0]))\n",
        "    reg = RandomForestRegressor(n_estimators=n_estimators, max_depth=params[1], min_samples_split=params[2], min_samples_leaf=params[3], random_state=42)\n",
        "    reg.fit(X_train, y_train)\n",
        "    \n",
        "    # Evaluate the model on the test set\n",
        "    y_pred = reg.predict(X_test)\n",
        "    r2 = r2_score(y_test, y_pred)\n",
        "    \n",
        "    return r2\n"
      ],
      "metadata": {
        "id": "il0p55RNADeh"
      },
      "execution_count": 6,
      "outputs": []
    },
    {
      "cell_type": "code",
      "source": [
        "# Define the Butterfly Optimization algorithm\n",
        "def butterfly_optimization(fitness, n_iter=10, n_population=50, alpha=0.9, beta=0.2, gamma=1.0):\n",
        "    # Initialize the population\n",
        "    population = []\n",
        "    for i in range(n_population):\n",
        "        population.append([random.randint(10, 100), random.randint(2, 10), random.randint(2, 10), random.randint(1, 5)])\n",
        "    \n",
        "    # Initialize the global best position\n",
        "    g_best = population[0]\n",
        "    g_best_fitness = fitness(g_best)\n",
        "    \n",
        "    # Iterate for n_iter generations\n",
        "    for gen in range(n_iter):\n",
        "        # Evaluate the fitness of each butterfly\n",
        "        fitness_values = []\n",
        "        for butterfly in population:\n",
        "            fitness_values.append(fitness(butterfly))\n",
        "        \n",
        "        # Find the butterfly with the best fitness value\n",
        "        best_index = np.argmax(fitness_values)\n",
        "        best_butterfly = population[best_index]\n",
        "        \n",
        "        # Update the global best position if necessary\n",
        "        if fitness_values[best_index] > g_best_fitness:\n",
        "            g_best = best_butterfly\n",
        "            g_best_fitness = fitness_values[best_index]\n",
        "        \n",
        "        # Update the position of each butterfly\n",
        "        for i, butterfly in enumerate(population):\n",
        "            r1 = np.random.rand()\n",
        "            r2 = np.random.rand()\n",
        "            \n",
        "            # Update the position of the butterfly based on the global best position\n",
        "            for j in range(len(butterfly)):\n",
        "                butterfly[j] = butterfly[j] + alpha * (g_best[j] - butterfly[j]) + beta * (r1 - 0.5) + gamma * (r2 - 0.5)\n",
        "                \n",
        "                # Ensure that the position is within the search space\n",
        "                if butterfly[j] < 10:\n",
        "                    butterfly[j] = 10\n",
        "                elif butterfly[j] > 100 and j == 0:\n",
        "                    butterfly[j] = 100\n",
        "                elif butterfly[j] > 10 and j in [1, 2]:\n",
        "                    butterfly[j] = 10\n",
        "                elif butterfly[j] > 5 and j == 3:\n",
        "                    butterfly[j] = 5\n",
        "                    \n",
        "        print('Generation', gen+1, '- Best fitness:', g_best_fitness)\n",
        "    \n",
        "    return g_best, g_best_fitness\n"
      ],
      "metadata": {
        "id": "NutVwsLMAGu5"
      },
      "execution_count": 7,
      "outputs": []
    },
    {
      "cell_type": "code",
      "source": [
        "#Run the butterfly optimization algorithm\n",
        "best_params, best_fitness = butterfly_optimization(fitness)"
      ],
      "metadata": {
        "colab": {
          "base_uri": "https://localhost:8080/"
        },
        "id": "avY1AnWoAKxi",
        "outputId": "3833ad81-7bac-43ef-a001-b1a9d6fa77bd"
      },
      "execution_count": 9,
      "outputs": [
        {
          "output_type": "stream",
          "name": "stdout",
          "text": [
            "Generation 1 - Best fitness: 0.9946424322754627\n",
            "Generation 2 - Best fitness: 0.9946424322754627\n",
            "Generation 3 - Best fitness: 0.9946424322754627\n",
            "Generation 4 - Best fitness: 0.9946424322754627\n",
            "Generation 5 - Best fitness: 0.9946424322754627\n",
            "Generation 6 - Best fitness: 0.9946424322754627\n",
            "Generation 7 - Best fitness: 0.9946424322754627\n",
            "Generation 8 - Best fitness: 0.9946424322754627\n",
            "Generation 9 - Best fitness: 0.9946424322754627\n",
            "Generation 10 - Best fitness: 0.9946424322754627\n"
          ]
        }
      ]
    },
    {
      "cell_type": "code",
      "source": [
        "#Train the model using the best parameters\n",
        "n_estimators = int(round(best_params[0]))\n",
        "reg = RandomForestRegressor(n_estimators=n_estimators, max_depth=best_params[1], min_samples_split=best_params[2], min_samples_leaf=best_params[3], random_state=42)\n",
        "reg.fit(X_train, y_train)"
      ],
      "metadata": {
        "colab": {
          "base_uri": "https://localhost:8080/",
          "height": 91
        },
        "id": "Adr5Kwr8NBbk",
        "outputId": "4261a2df-0af3-4576-ed6b-5232508ebcc4"
      },
      "execution_count": 11,
      "outputs": [
        {
          "output_type": "execute_result",
          "data": {
            "text/plain": [
              "RandomForestRegressor(max_depth=10, min_samples_leaf=10, min_samples_split=10,\n",
              "                      n_estimators=53, random_state=42)"
            ],
            "text/html": [
              "<style>#sk-container-id-1 {color: black;background-color: white;}#sk-container-id-1 pre{padding: 0;}#sk-container-id-1 div.sk-toggleable {background-color: white;}#sk-container-id-1 label.sk-toggleable__label {cursor: pointer;display: block;width: 100%;margin-bottom: 0;padding: 0.3em;box-sizing: border-box;text-align: center;}#sk-container-id-1 label.sk-toggleable__label-arrow:before {content: \"▸\";float: left;margin-right: 0.25em;color: #696969;}#sk-container-id-1 label.sk-toggleable__label-arrow:hover:before {color: black;}#sk-container-id-1 div.sk-estimator:hover label.sk-toggleable__label-arrow:before {color: black;}#sk-container-id-1 div.sk-toggleable__content {max-height: 0;max-width: 0;overflow: hidden;text-align: left;background-color: #f0f8ff;}#sk-container-id-1 div.sk-toggleable__content pre {margin: 0.2em;color: black;border-radius: 0.25em;background-color: #f0f8ff;}#sk-container-id-1 input.sk-toggleable__control:checked~div.sk-toggleable__content {max-height: 200px;max-width: 100%;overflow: auto;}#sk-container-id-1 input.sk-toggleable__control:checked~label.sk-toggleable__label-arrow:before {content: \"▾\";}#sk-container-id-1 div.sk-estimator input.sk-toggleable__control:checked~label.sk-toggleable__label {background-color: #d4ebff;}#sk-container-id-1 div.sk-label input.sk-toggleable__control:checked~label.sk-toggleable__label {background-color: #d4ebff;}#sk-container-id-1 input.sk-hidden--visually {border: 0;clip: rect(1px 1px 1px 1px);clip: rect(1px, 1px, 1px, 1px);height: 1px;margin: -1px;overflow: hidden;padding: 0;position: absolute;width: 1px;}#sk-container-id-1 div.sk-estimator {font-family: monospace;background-color: #f0f8ff;border: 1px dotted black;border-radius: 0.25em;box-sizing: border-box;margin-bottom: 0.5em;}#sk-container-id-1 div.sk-estimator:hover {background-color: #d4ebff;}#sk-container-id-1 div.sk-parallel-item::after {content: \"\";width: 100%;border-bottom: 1px solid gray;flex-grow: 1;}#sk-container-id-1 div.sk-label:hover label.sk-toggleable__label {background-color: #d4ebff;}#sk-container-id-1 div.sk-serial::before {content: \"\";position: absolute;border-left: 1px solid gray;box-sizing: border-box;top: 0;bottom: 0;left: 50%;z-index: 0;}#sk-container-id-1 div.sk-serial {display: flex;flex-direction: column;align-items: center;background-color: white;padding-right: 0.2em;padding-left: 0.2em;position: relative;}#sk-container-id-1 div.sk-item {position: relative;z-index: 1;}#sk-container-id-1 div.sk-parallel {display: flex;align-items: stretch;justify-content: center;background-color: white;position: relative;}#sk-container-id-1 div.sk-item::before, #sk-container-id-1 div.sk-parallel-item::before {content: \"\";position: absolute;border-left: 1px solid gray;box-sizing: border-box;top: 0;bottom: 0;left: 50%;z-index: -1;}#sk-container-id-1 div.sk-parallel-item {display: flex;flex-direction: column;z-index: 1;position: relative;background-color: white;}#sk-container-id-1 div.sk-parallel-item:first-child::after {align-self: flex-end;width: 50%;}#sk-container-id-1 div.sk-parallel-item:last-child::after {align-self: flex-start;width: 50%;}#sk-container-id-1 div.sk-parallel-item:only-child::after {width: 0;}#sk-container-id-1 div.sk-dashed-wrapped {border: 1px dashed gray;margin: 0 0.4em 0.5em 0.4em;box-sizing: border-box;padding-bottom: 0.4em;background-color: white;}#sk-container-id-1 div.sk-label label {font-family: monospace;font-weight: bold;display: inline-block;line-height: 1.2em;}#sk-container-id-1 div.sk-label-container {text-align: center;}#sk-container-id-1 div.sk-container {/* jupyter's `normalize.less` sets `[hidden] { display: none; }` but bootstrap.min.css set `[hidden] { display: none !important; }` so we also need the `!important` here to be able to override the default hidden behavior on the sphinx rendered scikit-learn.org. See: https://github.com/scikit-learn/scikit-learn/issues/21755 */display: inline-block !important;position: relative;}#sk-container-id-1 div.sk-text-repr-fallback {display: none;}</style><div id=\"sk-container-id-1\" class=\"sk-top-container\"><div class=\"sk-text-repr-fallback\"><pre>RandomForestRegressor(max_depth=10, min_samples_leaf=10, min_samples_split=10,\n",
              "                      n_estimators=53, random_state=42)</pre><b>In a Jupyter environment, please rerun this cell to show the HTML representation or trust the notebook. <br />On GitHub, the HTML representation is unable to render, please try loading this page with nbviewer.org.</b></div><div class=\"sk-container\" hidden><div class=\"sk-item\"><div class=\"sk-estimator sk-toggleable\"><input class=\"sk-toggleable__control sk-hidden--visually\" id=\"sk-estimator-id-1\" type=\"checkbox\" checked><label for=\"sk-estimator-id-1\" class=\"sk-toggleable__label sk-toggleable__label-arrow\">RandomForestRegressor</label><div class=\"sk-toggleable__content\"><pre>RandomForestRegressor(max_depth=10, min_samples_leaf=10, min_samples_split=10,\n",
              "                      n_estimators=53, random_state=42)</pre></div></div></div></div></div>"
            ]
          },
          "metadata": {},
          "execution_count": 11
        }
      ]
    },
    {
      "cell_type": "code",
      "source": [
        "#Evaluate the model on the test set\n",
        "y_pred = reg.predict(X_test)\n",
        "r2 = r2_score(y_test, y_pred)"
      ],
      "metadata": {
        "id": "ujHwxgcgN5hb"
      },
      "execution_count": 12,
      "outputs": []
    },
    {
      "cell_type": "code",
      "source": [
        "#Print the results\n",
        "print('R2 Score:', r2)\n",
        "print('Optimized parameters:', best_params)\n",
        "print('Optimized fitness:', best_fitness)"
      ],
      "metadata": {
        "colab": {
          "base_uri": "https://localhost:8080/"
        },
        "id": "glSZRKFqN-Sk",
        "outputId": "64633646-2f79-4e72-d637-697c717af932"
      },
      "execution_count": 13,
      "outputs": [
        {
          "output_type": "stream",
          "name": "stdout",
          "text": [
            "R2 Score: 0.991911953617677\n",
            "Optimized parameters: [52.79055789362258, 10, 10, 10]\n",
            "Optimized fitness: 0.9946424322754627\n"
          ]
        }
      ]
    },
    {
      "cell_type": "code",
      "source": [
        "from sklearn.metrics import mean_squared_error\n",
        "mse = mean_squared_error(y_test, y_pred)\n",
        "print('Mean squared error:', mse)"
      ],
      "metadata": {
        "colab": {
          "base_uri": "https://localhost:8080/"
        },
        "id": "pEMPaM5cOc2A",
        "outputId": "fa02b6a7-b8c7-408b-9bb8-be7bbe7217ac"
      },
      "execution_count": 18,
      "outputs": [
        {
          "output_type": "stream",
          "name": "stdout",
          "text": [
            "Mean squared error: 0.0012964294824413737\n"
          ]
        }
      ]
    },
    {
      "cell_type": "code",
      "source": [
        "import matplotlib.pyplot as plt\n",
        "\n",
        "# Plot the best_params over iterations\n",
        "plt.plot(best_params)\n",
        "plt.xlabel('Iteration')\n",
        "plt.ylabel('Best Parameters')\n",
        "plt.title('Butterfly Optimization')\n",
        "plt.show()\n"
      ],
      "metadata": {
        "colab": {
          "base_uri": "https://localhost:8080/",
          "height": 472
        },
        "id": "3r_Pd8B2Pjkb",
        "outputId": "763f262e-cc39-47fe-c7f7-69a31124e524"
      },
      "execution_count": 22,
      "outputs": [
        {
          "output_type": "display_data",
          "data": {
            "text/plain": [
              "<Figure size 640x480 with 1 Axes>"
            ],
            "image/png": "[encoded data removed]"
          },
          "metadata": {}
        }
      ]
    }
  ]
}